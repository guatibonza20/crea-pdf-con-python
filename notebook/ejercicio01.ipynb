{
 "cells": [
  {
   "cell_type": "code",
   "execution_count": 13,
   "id": "6fe65832",
   "metadata": {},
   "outputs": [],
   "source": [
    "proyecto= input(\"ingrese nombre\")\n",
    "valor_horas= input(\"ingrese horas\")\n",
    "fecha= input(\"digite dia de la semana\")\n",
    "horas_estimadas= input(\"ingrese timpo en meses\")"
   ]
  },
  {
   "cell_type": "code",
   "execution_count": null,
   "id": "e9b6a20e",
   "metadata": {},
   "outputs": [
    {
     "name": "stdout",
     "output_type": "stream",
     "text": [
      "proyecto1\n",
      "23\n",
      "lunes\n",
      "3\n"
     ]
    }
   ],
   "source": [
    "print(proyecto)\n",
    "print(valor_horas)\n",
    "print(fecha)\n",
    "print(horas_estimadas)"
   ]
  },
  {
   "cell_type": "code",
   "execution_count": 15,
   "id": "ac98e051",
   "metadata": {},
   "outputs": [
    {
     "data": {
      "text/plain": [
       "26"
      ]
     },
     "execution_count": 15,
     "metadata": {},
     "output_type": "execute_result"
    }
   ],
   "source": [
    "int(valor_horas) + int(horas_estimadas)"
   ]
  }
 ],
 "metadata": {
  "kernelspec": {
   "display_name": "Python 3",
   "language": "python",
   "name": "python3"
  },
  "language_info": {
   "codemirror_mode": {
    "name": "ipython",
    "version": 3
   },
   "file_extension": ".py",
   "mimetype": "text/x-python",
   "name": "python",
   "nbconvert_exporter": "python",
   "pygments_lexer": "ipython3",
   "version": "3.12.3"
  }
 },
 "nbformat": 4,
 "nbformat_minor": 5
}
