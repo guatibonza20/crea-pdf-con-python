{
 "cells": [
  {
   "cell_type": "code",
   "execution_count": 1,
   "id": "6a08568a",
   "metadata": {},
   "outputs": [
    {
     "name": "stdout",
     "output_type": "stream",
     "text": [
      "PDF creado\n"
     ]
    }
   ],
   "source": [
    "from fpdf import FPDF\n",
    "\n",
    "pdf = FPDF(orientation=\"P\", unit=\"mm\", format=\"A4\")\n",
    "pdf.add_page()\n",
    "pdf.set_font(family=\"Times\", size=16, style=\"B\")\n",
    "pdf.image(\"facturapdf.jpg\",0 , 0, 210)\n",
    "pdf.set_text_color(255, 0, 0)\n",
    "# The cell method requires the 'w' argument for width. Setting it to 0 allows automatic width adjustment.\n",
    "pdf.cell(w=0, txt=\"Hello there\", ln=1, align=\"L\", border=1)\n",
    "pdf.text(115, 145, \"proyecto julian\")\n",
    "pdf.text(115, 165, \"horas_estimadas\")\n",
    "pdf.text(115, 185, \"valor_hora\")\n",
    "pdf.text(115, 200, \"tiempo_estimado\")\n",
    "pdf.text(115, 220, str(\"total_valor\"))\n",
    "pdf.set_font(family=\"Times\", size=10)\n",
    "pdf.output(\"output.pdf\")\n",
    "print(\"PDF creado\")\n",
    "\n",
    "\n",
    "\n"
   ]
  },
  {
   "cell_type": "code",
   "execution_count": null,
   "id": "e1116f78",
   "metadata": {},
   "outputs": [],
   "source": []
  }
 ],
 "metadata": {
  "kernelspec": {
   "display_name": "Python 3",
   "language": "python",
   "name": "python3"
  },
  "language_info": {
   "codemirror_mode": {
    "name": "ipython",
    "version": 3
   },
   "file_extension": ".py",
   "mimetype": "text/x-python",
   "name": "python",
   "nbconvert_exporter": "python",
   "pygments_lexer": "ipython3",
   "version": "3.13.3"
  }
 },
 "nbformat": 4,
 "nbformat_minor": 5
}
